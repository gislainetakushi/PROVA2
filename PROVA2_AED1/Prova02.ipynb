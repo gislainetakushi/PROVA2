{
 "cells": [
  {
   "cell_type": "code",
   "execution_count": 1,
   "id": "aa9861c2-c16a-4f2a-9811-11b21128485c",
   "metadata": {},
   "outputs": [
    {
     "name": "stdout",
     "output_type": "stream",
     "text": [
      "O consumo diário médio foi: 51.37kwh\n"
     ]
    }
   ],
   "source": [
    "consumo_diario = [50,45,55,60,48,52,47,49,53,51,50,46,54,61,49,53,48,50,52,47,56,50,55,60,48,52,47,49,53,51]\n",
    "def consumo(consumo_diario):\n",
    "    consumo_energia = sum(consumo_diario)\n",
    "    media = consumo_energia/ len(consumo_diario)\n",
    "    return media\n",
    "\n",
    "\n",
    "print(f\"O consumo diário médio foi: {consumo(consumo_diario):.2f}kwh\")  "
   ]
  },
  {
   "cell_type": "code",
   "execution_count": null,
   "id": "22ca4657-5d41-4e41-a5d7-798f2b5fdf30",
   "metadata": {},
   "outputs": [],
   "source": []
  }
 ],
 "metadata": {
  "kernelspec": {
   "display_name": "Python 3 (ipykernel)",
   "language": "python",
   "name": "python3"
  },
  "language_info": {
   "codemirror_mode": {
    "name": "ipython",
    "version": 3
   },
   "file_extension": ".py",
   "mimetype": "text/x-python",
   "name": "python",
   "nbconvert_exporter": "python",
   "pygments_lexer": "ipython3",
   "version": "3.12.4"
  }
 },
 "nbformat": 4,
 "nbformat_minor": 5
}
